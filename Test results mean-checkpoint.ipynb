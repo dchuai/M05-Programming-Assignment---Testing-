{
 "cells": [
  {
   "cell_type": "code",
   "execution_count": null,
   "id": "a4365b0e",
   "metadata": {},
   "outputs": [],
   "source": [
    "# Testing Your Code\n",
    "  The notebook guides the reader through fundamental testing concepts, \n",
    "    introduces various test runners, and provides practical examples of \n",
    "    writing and executing tests using unittest, nose2, and pytest. \n",
    "    The test results demonstrate the importance of automated testing in \n",
    "    identifying and diagnosing issues in code.\n",
    "    \n",
    "    \n",
    "# Writing Your First Test\n",
    "  The test results, when reviewed, will provide insights into the correctness\n",
    "    of the sum() function for the specific case of summing a list of integers. \n",
    "    Passing tests instill confidence in the functionality, while failing tests\n",
    "    indicate the need for further investigation and potential refinement of the\n",
    "    sum() implementation.\n",
    "    \n",
    "    \n",
    "# Executing Your First Test\n",
    " The test results demonstrate the ability to execute tests using the unittest\n",
    " framework and interpret the output. The failure in the introduced test case\n",
    " highlights the importance of thorough testing and the ability to identify \n",
    " issues in the code."
   ]
  }
 ],
 "metadata": {
  "kernelspec": {
   "display_name": "Python 3 (ipykernel)",
   "language": "python",
   "name": "python3"
  },
  "language_info": {
   "codemirror_mode": {
    "name": "ipython",
    "version": 3
   },
   "file_extension": ".py",
   "mimetype": "text/x-python",
   "name": "python",
   "nbconvert_exporter": "python",
   "pygments_lexer": "ipython3",
   "version": "3.11.5"
  }
 },
 "nbformat": 4,
 "nbformat_minor": 5
}
